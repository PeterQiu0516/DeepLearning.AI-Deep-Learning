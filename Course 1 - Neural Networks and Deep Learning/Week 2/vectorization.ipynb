{
 "metadata": {
  "language_info": {
   "codemirror_mode": {
    "name": "ipython",
    "version": 3
   },
   "file_extension": ".py",
   "mimetype": "text/x-python",
   "name": "python",
   "nbconvert_exporter": "python",
   "pygments_lexer": "ipython3",
   "version": "3.9.0-final"
  },
  "orig_nbformat": 2,
  "kernelspec": {
   "name": "python3",
   "display_name": "Python 3.9.0 64-bit",
   "metadata": {
    "interpreter": {
     "hash": "792fd8ffbfe4ccc51e12e13d283d670210088f9913a6a12f1eee54924c43e4bc"
    }
   }
  }
 },
 "nbformat": 4,
 "nbformat_minor": 2,
 "cells": [
  {
   "cell_type": "code",
   "execution_count": 1,
   "metadata": {},
   "outputs": [
    {
     "output_type": "stream",
     "name": "stdout",
     "text": [
      "[1 2 3 4]\n"
     ]
    }
   ],
   "source": [
    "import numpy as np\n",
    "\n",
    "a = np.array([1, 2, 3, 4])\n",
    "print(a)"
   ]
  },
  {
   "cell_type": "code",
   "execution_count": 20,
   "metadata": {},
   "outputs": [
    {
     "output_type": "stream",
     "name": "stdout",
     "text": [
      "Vectorization Version: 0.9870529174804688 ms\n",
      "For Loop Version: 526.5719890594482 ms\n"
     ]
    }
   ],
   "source": [
    "import time\n",
    "\n",
    "a = np.random.rand(1000000)\n",
    "b = np.random.rand(1000000)\n",
    "\n",
    "tic = time.time()\n",
    "c = np.dot(a,b)\n",
    "toc = time.time()\n",
    "print(\"Vectorization Version: \" + str(1000*(toc-tic)) + \" ms\")\n",
    "\n",
    "c = 0\n",
    "tic = time.time()\n",
    "for i in range(1000000):\n",
    "    c += a[i]*b[i]\n",
    "toc = time.time()\n",
    "print(\"For Loop Version: \" + str(1000*(toc-tic)) + \" ms\")"
   ]
  },
  {
   "cell_type": "code",
   "execution_count": 21,
   "metadata": {},
   "outputs": [
    {
     "output_type": "stream",
     "name": "stdout",
     "text": [
      "Vectorization Version: 58.83979797363281 ms\n",
      "For Loop Version: 351.0608673095703 ms\n"
     ]
    }
   ],
   "source": [
    "tic = time.time()\n",
    "d = np.exp(a)\n",
    "toc = time.time()\n",
    "print(\"Vectorization Version: \" + str(1000*(toc-tic)) + \" ms\")\n",
    "\n",
    "import math\n",
    "c = 0\n",
    "tic = time.time()\n",
    "for i in range(1000000):\n",
    "    d[i] = math.exp(a[i])\n",
    "toc = time.time()\n",
    "print(\"For Loop Version: \" + str(1000*(toc-tic)) + \" ms\")"
   ]
  },
  {
   "cell_type": "code",
   "execution_count": 22,
   "metadata": {},
   "outputs": [
    {
     "output_type": "stream",
     "name": "stdout",
     "text": [
      "[[94.91525424  2.44897959  2.83140283 88.42652796]\n [ 2.03389831 42.44897959 33.46203346 10.40312094]\n [ 3.05084746 55.10204082 63.70656371  1.17035111]]\n"
     ]
    }
   ],
   "source": [
    "# Broadcasting\n",
    "A = np.array([[56.0, 6.0, 4.4, 68.0],\n",
    "              [1.2,104.0,52.0,8.0],\n",
    "              [1.8,135.0,99.0,0.9]])\n",
    "s = np.sum(A,axis=0)\n",
    "percentage = 100*A/s\n",
    "print(percentage)"
   ]
  },
  {
   "cell_type": "code",
   "execution_count": null,
   "metadata": {},
   "outputs": [],
   "source": []
  }
 ]
}